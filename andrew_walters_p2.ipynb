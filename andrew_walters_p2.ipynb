{
 "cells": [
  {
   "cell_type": "markdown",
   "metadata": {},
   "source": [
    "# Project 2: Topic Classification"
   ]
  },
  {
   "cell_type": "markdown",
   "metadata": {},
   "source": [
    "In this project, you'll work with text data from newsgroup postings on a variety of topics. You'll train classifiers to distinguish between the topics based on the text of the posts. Whereas with digit classification, the input is relatively dense: a 28x28 matrix of pixels, many of which are non-zero, here we'll represent each document with a \"bag-of-words\" model. As you'll see, this makes the feature representation quite sparse -- only a few words of the total vocabulary are active in any given document. The bag-of-words assumption here is that the label depends only on the words; their order is not important.\n",
    "\n",
    "The SK-learn documentation on feature extraction will prove useful:\n",
    "http://scikit-learn.org/stable/modules/feature_extraction.html\n",
    "\n",
    "Each problem can be addressed succinctly with the included packages -- please don't add any more. Grading will be based on writing clean, commented code, along with a few short answers.\n",
    "\n",
    "As always, you're welcome to work on the project in groups and discuss ideas on the course wall, but please prepare your own write-up and write your own code."
   ]
  },
  {
   "cell_type": "code",
   "execution_count": 138,
   "metadata": {},
   "outputs": [],
   "source": [
    "# This tells matplotlib not to try opening a new window for each plot.\n",
    "%matplotlib inline\n",
    "\n",
    "# General libraries.\n",
    "import re\n",
    "import numpy as np\n",
    "import matplotlib.pyplot as plt\n",
    "\n",
    "# SK-learn libraries for learning.\n",
    "from sklearn.pipeline import Pipeline\n",
    "from sklearn.neighbors import KNeighborsClassifier\n",
    "from sklearn.linear_model import LogisticRegression\n",
    "from sklearn.naive_bayes import BernoulliNB\n",
    "from sklearn.naive_bayes import MultinomialNB\n",
    "from sklearn.grid_search import GridSearchCV\n",
    "\n",
    "# SK-learn libraries for evaluation.\n",
    "from sklearn.metrics import confusion_matrix\n",
    "from sklearn import metrics\n",
    "from sklearn.metrics import classification_report\n",
    "\n",
    "# SK-learn library for importing the newsgroup data.\n",
    "from sklearn.datasets import fetch_20newsgroups\n",
    "\n",
    "# SK-learn libraries for feature extraction from text.\n",
    "from sklearn.feature_extraction.text import *\n",
    "\n",
    "## STUDENT START ##\n",
    "from IPython.display import display, Markdown, HTML\n",
    "import pandas as pd\n",
    "## STUDENT END ##"
   ]
  },
  {
   "cell_type": "markdown",
   "metadata": {},
   "source": [
    "Load the data, stripping out metadata so that we learn classifiers that only use textual features. By default, newsgroups data is split into train and test sets. We further split the test so we have a dev set. Note that we specify 4 categories to use for this project. If you remove the categories argument from the fetch function, you'll get all 20 categories."
   ]
  },
  {
   "cell_type": "code",
   "execution_count": 48,
   "metadata": {},
   "outputs": [
    {
     "name": "stdout",
     "output_type": "stream",
     "text": [
      "training label shape: (2034,)\n",
      "test label shape: (677,)\n",
      "dev label shape: (676,)\n",
      "labels names: ['alt.atheism', 'comp.graphics', 'sci.space', 'talk.religion.misc']\n"
     ]
    }
   ],
   "source": [
    "categories = ['alt.atheism', 'talk.religion.misc', 'comp.graphics', 'sci.space']\n",
    "newsgroups_train = fetch_20newsgroups(subset='train',\n",
    "                                      remove=('headers', 'footers', 'quotes'),\n",
    "                                      categories=categories)\n",
    "newsgroups_test = fetch_20newsgroups(subset='test',\n",
    "                                     remove=('headers', 'footers', 'quotes'),\n",
    "                                     categories=categories)\n",
    "\n",
    "num_test = len(newsgroups_test.target)\n",
    "half_num_test = int(num_test/2)\n",
    "test_data, test_labels = newsgroups_test.data[half_num_test:], newsgroups_test.target[half_num_test:]\n",
    "dev_data, dev_labels = newsgroups_test.data[:half_num_test], newsgroups_test.target[:half_num_test]\n",
    "train_data, train_labels = newsgroups_train.data, newsgroups_train.target\n",
    "\n",
    "print ('training label shape:', train_labels.shape)\n",
    "print ('test label shape:', test_labels.shape)\n",
    "print ('dev label shape:', dev_labels.shape)\n",
    "print ('labels names:', newsgroups_train.target_names)"
   ]
  },
  {
   "cell_type": "markdown",
   "metadata": {},
   "source": [
    "## Problem 1\n",
    "\n",
    "For each of the first 5 training examples, print the text of the message along with the label.\n",
    "\n",
    "[2 pts]"
   ]
  },
  {
   "cell_type": "code",
   "execution_count": 50,
   "metadata": {},
   "outputs": [
    {
     "data": {
      "text/markdown": [
       "**Training Example 0 is labeled 1**"
      ],
      "text/plain": [
       "<IPython.core.display.Markdown object>"
      ]
     },
     "metadata": {},
     "output_type": "display_data"
    },
    {
     "data": {
      "text/markdown": [
       "Hi,\n",
       "\n",
       "I've noticed that if you only save a model (with all your mapping planes\n",
       "positioned carefully) to a .3DS file that when you reload it after restarting\n",
       "3DS, they are given a default position and orientation.  But if you save\n",
       "to a .PRJ file their positions/orientation are preserved.  Does anyone\n",
       "know why this information is not stored in the .3DS file?  Nothing is\n",
       "explicitly said in the manual about saving texture rules in the .PRJ file. \n",
       "I'd like to be able to read the texture rule information, does anyone have \n",
       "the format for the .PRJ file?\n",
       "\n",
       "Is the .CEL file format available from somewhere?\n",
       "\n",
       "Rych"
      ],
      "text/plain": [
       "<IPython.core.display.Markdown object>"
      ]
     },
     "metadata": {},
     "output_type": "display_data"
    },
    {
     "data": {
      "text/markdown": [
       "**Training Example 1 is labeled 3**"
      ],
      "text/plain": [
       "<IPython.core.display.Markdown object>"
      ]
     },
     "metadata": {},
     "output_type": "display_data"
    },
    {
     "data": {
      "text/markdown": [
       "\n",
       "\n",
       "Seems to be, barring evidence to the contrary, that Koresh was simply\n",
       "another deranged fanatic who thought it neccessary to take a whole bunch of\n",
       "folks with him, children and all, to satisfy his delusional mania. Jim\n",
       "Jones, circa 1993.\n",
       "\n",
       "\n",
       "Nope - fruitcakes like Koresh have been demonstrating such evil corruption\n",
       "for centuries."
      ],
      "text/plain": [
       "<IPython.core.display.Markdown object>"
      ]
     },
     "metadata": {},
     "output_type": "display_data"
    },
    {
     "data": {
      "text/markdown": [
       "**Training Example 2 is labeled 2**"
      ],
      "text/plain": [
       "<IPython.core.display.Markdown object>"
      ]
     },
     "metadata": {},
     "output_type": "display_data"
    },
    {
     "data": {
      "text/markdown": [
       "\n",
       " >In article <1993Apr19.020359.26996@sq.sq.com>, msb@sq.sq.com (Mark Brader) \n",
       "\n",
       "MB>                                                             So the\n",
       "MB> 1970 figure seems unlikely to actually be anything but a perijove.\n",
       "\n",
       "JG>Sorry, _perijoves_...I'm not used to talking this language.\n",
       "\n",
       "Couldn't we just say periapsis or apoapsis?\n",
       "\n",
       " "
      ],
      "text/plain": [
       "<IPython.core.display.Markdown object>"
      ]
     },
     "metadata": {},
     "output_type": "display_data"
    },
    {
     "data": {
      "text/markdown": [
       "**Training Example 3 is labeled 0**"
      ],
      "text/plain": [
       "<IPython.core.display.Markdown object>"
      ]
     },
     "metadata": {},
     "output_type": "display_data"
    },
    {
     "data": {
      "text/markdown": [
       "I have a request for those who would like to see Charley Wingate\n",
       "respond to the \"Charley Challenges\" (and judging from my e-mail, there\n",
       "appear to be quite a few of you.)  \n",
       "\n",
       "It is clear that Mr. Wingate intends to continue to post tangential or\n",
       "unrelated articles while ingoring the Challenges themselves.  Between\n",
       "the last two re-postings of the Challenges, I noted perhaps a dozen or\n",
       "more posts by Mr. Wingate, none of which answered a single Challenge.  \n",
       "\n",
       "It seems unmistakable to me that Mr. Wingate hopes that the questions\n",
       "will just go away, and he is doing his level best to change the\n",
       "subject.  Given that this seems a rather common net.theist tactic, I\n",
       "would like to suggest that we impress upon him our desire for answers,\n",
       "in the following manner:\n",
       "\n",
       "1. Ignore any future articles by Mr. Wingate that do not address the\n",
       "Challenges, until he answers them or explictly announces that he\n",
       "refuses to do so.\n",
       "\n",
       "--or--\n",
       "\n",
       "2. If you must respond to one of his articles, include within it\n",
       "something similar to the following:\n",
       "\n",
       "    \"Please answer the questions posed to you in the Charley Challenges.\"\n",
       "\n",
       "Really, I'm not looking to humiliate anyone here, I just want some\n",
       "honest answers.  You wouldn't think that honesty would be too much to\n",
       "ask from a devout Christian, would you?  \n",
       "\n",
       "Nevermind, that was a rhetorical question."
      ],
      "text/plain": [
       "<IPython.core.display.Markdown object>"
      ]
     },
     "metadata": {},
     "output_type": "display_data"
    },
    {
     "data": {
      "text/markdown": [
       "**Training Example 4 is labeled 2**"
      ],
      "text/plain": [
       "<IPython.core.display.Markdown object>"
      ]
     },
     "metadata": {},
     "output_type": "display_data"
    },
    {
     "data": {
      "text/markdown": [
       "AW&ST  had a brief blurb on a Manned Lunar Exploration confernce\n",
       "May 7th  at Crystal City Virginia, under the auspices of AIAA.\n",
       "\n",
       "Does anyone know more about this?  How much, to attend????\n",
       "\n",
       "Anyone want to go?"
      ],
      "text/plain": [
       "<IPython.core.display.Markdown object>"
      ]
     },
     "metadata": {},
     "output_type": "display_data"
    }
   ],
   "source": [
    "def P1(num_examples=5):\n",
    "    for ii in range(0,num_examples):\n",
    "        disp_label = '**Training Example ' + str(ii) + ' is labeled ' + str(train_labels[ii]) + '**'\n",
    "        display(Markdown(disp_label))\n",
    "        display(Markdown(train_data[ii]))\n",
    "\n",
    "P1(5)"
   ]
  },
  {
   "cell_type": "markdown",
   "metadata": {},
   "source": [
    "## Problem 2\n",
    "\n",
    "Use CountVectorizer to turn the raw training text into feature vectors. You should use the fit_transform function, which makes 2 passes through the data: first it computes the vocabulary (\"fit\"), second it converts the raw text into feature vectors using the vocabulary (\"transform\").\n",
    "\n",
    "The vectorizer has a lot of options. To get familiar with some of them, write code to answer these questions:\n",
    "\n",
    "a. The output of the transform (also of fit_transform) is a sparse matrix: http://docs.scipy.org/doc/scipy-0.14.0/reference/generated/scipy.sparse.csr_matrix.html. What is the size of the vocabulary? What is the average number of non-zero features per example? What fraction of the entries in the matrix are non-zero? Hint: use \"nnz\" and \"shape\" attributes.\n",
    "\n",
    "b. What are the 0th and last feature strings (in alphabetical order)? Hint: use the vectorizer's get_feature_names function.\n",
    "\n",
    "c. Specify your own vocabulary with 4 words: [\"atheism\", \"graphics\", \"space\", \"religion\"]. Confirm the training vectors are appropriately shaped. Now what's the average number of non-zero features per example?\n",
    "\n",
    "d. Instead of extracting unigram word features, use \"analyzer\" and \"ngram_range\" to extract bigram and trigram character features. What size vocabulary does this yield?\n",
    "\n",
    "e. Use the \"min_df\" argument to prune words that appear in fewer than 10 documents. What size vocabulary does this yield?\n",
    "\n",
    "f. Using the standard CountVectorizer, what fraction of the words in the dev data are missing from the vocabulary? Hint: build a vocabulary for both train and dev and look at the size of the difference.\n",
    "\n",
    "[6 pts]"
   ]
  },
  {
   "cell_type": "code",
   "execution_count": 51,
   "metadata": {
    "scrolled": false
   },
   "outputs": [
    {
     "data": {
      "text/markdown": [
       "**Part A**"
      ],
      "text/plain": [
       "<IPython.core.display.Markdown object>"
      ]
     },
     "metadata": {},
     "output_type": "display_data"
    },
    {
     "name": "stdout",
     "output_type": "stream",
     "text": [
      "Number of Words in Vocabulary: 26879\n",
      "Average Number of Features per Example: 96.70599803343165\n",
      "Proportion of Datatset that is Non-Zero: 0.0035978272269590263\n"
     ]
    },
    {
     "data": {
      "text/markdown": [
       "**Part B**"
      ],
      "text/plain": [
       "<IPython.core.display.Markdown object>"
      ]
     },
     "metadata": {},
     "output_type": "display_data"
    },
    {
     "name": "stdout",
     "output_type": "stream",
     "text": [
      "The First Feature Alphabetically is: 00\n",
      "The Last Feature Alphabetically is: zyxel\n"
     ]
    },
    {
     "data": {
      "text/markdown": [
       "**Part C**"
      ],
      "text/plain": [
       "<IPython.core.display.Markdown object>"
      ]
     },
     "metadata": {},
     "output_type": "display_data"
    },
    {
     "name": "stdout",
     "output_type": "stream",
     "text": [
      "Number of Words in Vocabulary: 4\n",
      "Average Number of Features per Example: 0.26843657817109146\n"
     ]
    },
    {
     "data": {
      "text/markdown": [
       "**Part D**"
      ],
      "text/plain": [
       "<IPython.core.display.Markdown object>"
      ]
     },
     "metadata": {},
     "output_type": "display_data"
    },
    {
     "name": "stdout",
     "output_type": "stream",
     "text": [
      "Number of Words in Vocabulary: 35478\n"
     ]
    },
    {
     "data": {
      "text/markdown": [
       "**Part E**"
      ],
      "text/plain": [
       "<IPython.core.display.Markdown object>"
      ]
     },
     "metadata": {},
     "output_type": "display_data"
    },
    {
     "name": "stdout",
     "output_type": "stream",
     "text": [
      "Number of Words in Vocabulary: 3064\n"
     ]
    },
    {
     "data": {
      "text/markdown": [
       "**Part F**"
      ],
      "text/plain": [
       "<IPython.core.display.Markdown object>"
      ]
     },
     "metadata": {},
     "output_type": "display_data"
    },
    {
     "name": "stdout",
     "output_type": "stream",
     "text": [
      "Proportion of Missing Words in Dev Data: 0.24787640034470024\n"
     ]
    }
   ],
   "source": [
    "def P2():\n",
    "    \n",
    "    # part a\n",
    "    display(Markdown(\"**Part A**\"))\n",
    "    cv0 = CountVectorizer()\n",
    "    train_data_sparse0 = cv0.fit_transform(train_data)\n",
    "    print(\"Number of Words in Vocabulary: \" + str(train_data_sparse0.shape[1]))\n",
    "    print(\"Average Number of Features per Example: \" \\\n",
    "          + str(train_data_sparse0.nnz/train_data_sparse0.shape[0]))\n",
    "    print(\"Proportion of Datatset that is Non-Zero: \" \\\n",
    "          + str(train_data_sparse0.nnz/(train_data_sparse0.shape[0]*train_data_sparse0.shape[1])))\n",
    "    \n",
    "    # part b\n",
    "    display(Markdown(\"**Part B**\"))\n",
    "    print(\"The First Feature Alphabetically is: \" \\\n",
    "          + cv0.get_feature_names()[0])\n",
    "    print(\"The Last Feature Alphabetically is: \" \\\n",
    "          + cv0.get_feature_names()[-1])\n",
    "    \n",
    "    # part c\n",
    "    display(Markdown(\"**Part C**\"))\n",
    "    custom_dict = [\"atheism\", \"graphics\", \"space\", \"religion\"]\n",
    "    cv1 = CountVectorizer(vocabulary=custom_dict)\n",
    "    train_data_sparse1 = cv1.fit_transform(train_data)\n",
    "    print(\"Number of Words in Vocabulary: \" + str(train_data_sparse1.shape[1]))\n",
    "    print(\"Average Number of Features per Example: \" \\\n",
    "          + str(train_data_sparse1.nnz/train_data_sparse1.shape[0]))\n",
    "    \n",
    "    # part d\n",
    "    display(Markdown(\"**Part D**\"))\n",
    "    cv2 = CountVectorizer(analyzer=\"char\",ngram_range=(2,3))\n",
    "    train_data_sparse2 = cv2.fit_transform(train_data)\n",
    "    print(\"Number of Words in Vocabulary: \" + str(train_data_sparse2.shape[1]))\n",
    "    \n",
    "    # part e\n",
    "    display(Markdown(\"**Part E**\"))\n",
    "    cv3 = CountVectorizer(min_df=10)\n",
    "    train_data_sparse3 = cv3.fit_transform(train_data)\n",
    "    print(\"Number of Words in Vocabulary: \" + str(train_data_sparse3.shape[1]))\n",
    "    \n",
    "    # part f\n",
    "    display(Markdown(\"**Part F**\"))\n",
    "    cv4 = CountVectorizer()\n",
    "    dev_data_sparse4 = cv4.fit_transform(dev_data)\n",
    "    missing_words = list( set(cv4.get_feature_names()) - set(cv0.get_feature_names()) )\n",
    "    print(\"Proportion of Missing Words in Dev Data: \" \\\n",
    "          + str(len(missing_words)/dev_data_sparse4.shape[1]))\n",
    "    \n",
    "P2()"
   ]
  },
  {
   "cell_type": "code",
   "execution_count": 21,
   "metadata": {},
   "outputs": [
    {
     "data": {
      "text/plain": [
       "<2034x26879 sparse matrix of type '<class 'numpy.int64'>'\n",
       "\twith 196700 stored elements in Compressed Sparse Row format>"
      ]
     },
     "execution_count": 21,
     "metadata": {},
     "output_type": "execute_result"
    }
   ],
   "source": [
    "train_data_sparse0"
   ]
  },
  {
   "cell_type": "markdown",
   "metadata": {},
   "source": [
    "## Problem 3\n",
    "\n",
    "Use the default CountVectorizer options and report the f1 score (use metrics.f1_score) for a k nearest neighbors classifier; find the optimal value for k. Also fit a Multinomial Naive Bayes model and find the optimal value for alpha. Finally, fit a logistic regression model and find the optimal value for the regularization strength C using l2 regularization. A few questions:\n",
    "\n",
    "a. Why doesn't nearest neighbors work well for this problem?\n",
    "\n",
    "b. Any ideas why logistic regression doesn't work as well as Naive Bayes?\n",
    "\n",
    "c. Logistic regression estimates a weight vector for each class, which you can access with the coef\\_ attribute. Output the sum of the squared weight values for each class for each setting of the C parameter. Briefly explain the relationship between the sum and the value of C.\n",
    "\n",
    "[4 pts]"
   ]
  },
  {
   "cell_type": "markdown",
   "metadata": {},
   "source": [
    "Questions: Should I combine training and dev data for cross validation?\n",
    "F1 micro vs macro??\n",
    "notes: naive bayes is good at text processing. [0.01,0.1,0.5,1,5,10,100]"
   ]
  },
  {
   "cell_type": "code",
   "execution_count": 69,
   "metadata": {},
   "outputs": [
    {
     "data": {
      "text/markdown": [
       "**Classification Report for KNN with neighbors=13**"
      ],
      "text/plain": [
       "<IPython.core.display.Markdown object>"
      ]
     },
     "metadata": {},
     "output_type": "display_data"
    },
    {
     "name": "stdout",
     "output_type": "stream",
     "text": [
      "             precision    recall  f1-score   support\n",
      "\n",
      "          0       0.36      0.46      0.40       165\n",
      "          1       0.47      0.45      0.46       185\n",
      "          2       0.55      0.48      0.51       199\n",
      "          3       0.28      0.24      0.26       127\n",
      "\n",
      "avg / total       0.43      0.42      0.42       676\n",
      "\n"
     ]
    }
   ],
   "source": [
    "# combine training and dev data into a singe cv dataset\n",
    "cv_data = train_data+dev_data\n",
    "cv_labels = np.concatenate([train_labels,dev_labels])\n",
    "\n",
    "# use count vectorizer to pre-process cv data\n",
    "cv0 = CountVectorizer()\n",
    "cv_data_sparse0 = cv0.fit_transform(cv_data)\n",
    "train_data_sparse0 = cv0.fit_transform(train_data)\n",
    "dev_data_sparse0 = cv0.transform(dev_data)\n",
    "\n",
    "# use grid search to estimate best classifier\n",
    "param_grid = {'n_neighbors': list(range(1,51))}\n",
    "grid_search = GridSearchCV(estimator=KNeighborsClassifier(),\n",
    "                           param_grid=param_grid,\n",
    "                           cv=5,\n",
    "                           scoring='f1_macro')\n",
    "grid_search.fit(cv_data_sparse0,cv_labels)\n",
    "\n",
    "# create and train the best knn classifier\n",
    "best_knn = KNeighborsClassifier(n_neighbors=grid_search.best_params_['n_neighbors'])\n",
    "best_knn.fit(train_data_sparse0,train_labels)\n",
    "best_knn_predict = best_knn.predict(dev_data_sparse0)\n",
    "display(Markdown(\"**Classification Report for KNN with neighbors=\" \\\n",
    "                 + str(grid_search.best_params_['n_neighbors']) \\\n",
    "                 + \"**\"))\n",
    "print(classification_report(dev_labels,best_knn_predict))"
   ]
  },
  {
   "cell_type": "code",
   "execution_count": 71,
   "metadata": {},
   "outputs": [
    {
     "data": {
      "text/markdown": [
       "** Classification Report for MNB with alpha=1 **"
      ],
      "text/plain": [
       "<IPython.core.display.Markdown object>"
      ]
     },
     "metadata": {},
     "output_type": "display_data"
    },
    {
     "name": "stdout",
     "output_type": "stream",
     "text": [
      "             precision    recall  f1-score   support\n",
      "\n",
      "          0       0.63      0.75      0.68       165\n",
      "          1       0.92      0.91      0.92       185\n",
      "          2       0.84      0.87      0.85       199\n",
      "          3       0.68      0.50      0.58       127\n",
      "\n",
      "avg / total       0.78      0.78      0.78       676\n",
      "\n"
     ]
    }
   ],
   "source": [
    "# use grid search to estimate best classifier\n",
    "param_grid = {'alpha': list(range(1,21))}\n",
    "grid_search = GridSearchCV(estimator=MultinomialNB(),\n",
    "                           param_grid=param_grid,\n",
    "                           cv=5,\n",
    "                           scoring='f1_macro')\n",
    "grid_search.fit(cv_data_sparse0,cv_labels)\n",
    "\n",
    "# create and train the best mnb classifier\n",
    "best_mnb = MultinomialNB(alpha=grid_search.best_params_['alpha'])\n",
    "best_mnb.fit(train_data_sparse0,train_labels)\n",
    "best_mnb_predict = best_mnb.predict(dev_data_sparse0)\n",
    "display(Markdown(\"** Classification Report for MNB with alpha=\" \\\n",
    "                 + str(grid_search.best_params_['alpha']) \\\n",
    "                 + \" **\"))\n",
    "print(classification_report(dev_labels,best_mnb_predict))"
   ]
  },
  {
   "cell_type": "code",
   "execution_count": 80,
   "metadata": {},
   "outputs": [
    {
     "data": {
      "text/markdown": [
       "** Classification Report for Logistic Regression with C=0.6 **"
      ],
      "text/plain": [
       "<IPython.core.display.Markdown object>"
      ]
     },
     "metadata": {},
     "output_type": "display_data"
    },
    {
     "name": "stdout",
     "output_type": "stream",
     "text": [
      "             precision    recall  f1-score   support\n",
      "\n",
      "          0       0.62      0.56      0.59       165\n",
      "          1       0.81      0.88      0.84       185\n",
      "          2       0.75      0.81      0.78       199\n",
      "          3       0.61      0.54      0.57       127\n",
      "\n",
      "avg / total       0.71      0.71      0.71       676\n",
      "\n"
     ]
    }
   ],
   "source": [
    "# use grid search to estimate best classifier\n",
    "c_values = list(np.arange(0.1,3.1,0.1))\n",
    "param_grid = {'C': c_values}\n",
    "grid_search = GridSearchCV(estimator=LogisticRegression(),\n",
    "                           param_grid=param_grid,\n",
    "                           cv=5,\n",
    "                           scoring='f1_macro')\n",
    "grid_search.fit(cv_data_sparse0,cv_labels)\n",
    "\n",
    "# create and train the best logistic classifier\n",
    "best_lgr = LogisticRegression(C=grid_search.best_params_['C'])\n",
    "best_lgr.fit(train_data_sparse0,train_labels)\n",
    "best_lgr_predict = best_lgr.predict(dev_data_sparse0)\n",
    "display(Markdown(\"** Classification Report for Logistic Regression with C=\" \\\n",
    "                 + str(grid_search.best_params_['C']) \\\n",
    "                 + \" **\"))\n",
    "print(classification_report(dev_labels,best_lgr_predict))"
   ]
  },
  {
   "cell_type": "code",
   "execution_count": 81,
   "metadata": {},
   "outputs": [
    {
     "data": {
      "text/plain": [
       "'\\ndef P2(k_values):\\n\\n    ### STUDENT START ###\\n    knn = {}\\n    for val in k_values:\\n        knn[val] = KNeighborsClassifier(n_neighbors=val)\\n        knn[val].fit(mini_train_data,mini_train_labels)\\n        y_predict=knn[val].predict(dev_data)\\n        print(\"######### Classification Report for k = \" + str(val) + \" ##########\")\\n        print(classification_report(dev_labels,y_predict))\\n    ### STUDENT END ###\\n\\nk_values = [1, 3, 5, 7, 9]\\nP2(k_values)\\n'"
      ]
     },
     "execution_count": 81,
     "metadata": {},
     "output_type": "execute_result"
    }
   ],
   "source": [
    "#def P3():\n",
    "### STUDENT START ###\n",
    "\n",
    "\n",
    "### STUDENT END ###\n",
    "#P3()\n",
    "\n",
    "\"\"\"\n",
    "def P2(k_values):\n",
    "\n",
    "    ### STUDENT START ###\n",
    "    knn = {}\n",
    "    for val in k_values:\n",
    "        knn[val] = KNeighborsClassifier(n_neighbors=val)\n",
    "        knn[val].fit(mini_train_data,mini_train_labels)\n",
    "        y_predict=knn[val].predict(dev_data)\n",
    "        print(\"######### Classification Report for k = \" + str(val) + \" ##########\")\n",
    "        print(classification_report(dev_labels,y_predict))\n",
    "    ### STUDENT END ###\n",
    "\n",
    "k_values = [1, 3, 5, 7, 9]\n",
    "P2(k_values)\n",
    "\"\"\""
   ]
  },
  {
   "cell_type": "markdown",
   "metadata": {},
   "source": [
    "ANSWER:"
   ]
  },
  {
   "cell_type": "markdown",
   "metadata": {},
   "source": [
    "## Problem 4\n",
    "\n",
    "Train a logistic regression model. Find the 5 features with the largest weights for each label -- 20 features in total. Create a table with 20 rows and 4 columns that shows the weight for each of these features for each of the labels. Create the table again with bigram features. Any surprising features in this table?\n",
    "\n",
    "[5 pts]"
   ]
  },
  {
   "cell_type": "markdown",
   "metadata": {},
   "source": [
    "questions: \n",
    "- "
   ]
  },
  {
   "cell_type": "code",
   "execution_count": 109,
   "metadata": {},
   "outputs": [],
   "source": [
    "# use count vectorizer to pre-process cv data\n",
    "count_vector_multi = CountVectorizer()\n",
    "train_data_sparse_muti = count_vector_multi.fit_transform(train_data)\n",
    "dev_data_sparse_multi = count_vector_multi.transform(dev_data)\n",
    "\n",
    "# create and train the best multinomial logistic regression classifier\n",
    "mlr = LogisticRegression(C=grid_search.best_params_['C'])\n",
    "mlr = mlr.fit(train_data_sparse_muti,train_labels)"
   ]
  },
  {
   "cell_type": "code",
   "execution_count": 112,
   "metadata": {},
   "outputs": [
    {
     "data": {
      "text/html": [
       "<table border=\"1\" class=\"dataframe\">\n",
       "  <thead>\n",
       "    <tr style=\"text-align: right;\">\n",
       "      <th></th>\n",
       "      <th>alt.atheism</th>\n",
       "      <th>comp.graphics</th>\n",
       "      <th>sci.space</th>\n",
       "      <th>talk.religion.misc</th>\n",
       "    </tr>\n",
       "  </thead>\n",
       "  <tbody>\n",
       "    <tr>\n",
       "      <th>0</th>\n",
       "      <td>deletion</td>\n",
       "      <td>computer</td>\n",
       "      <td>spacecraft</td>\n",
       "      <td>order</td>\n",
       "    </tr>\n",
       "    <tr>\n",
       "      <th>1</th>\n",
       "      <td>atheism</td>\n",
       "      <td>3d</td>\n",
       "      <td>launch</td>\n",
       "      <td>fbi</td>\n",
       "    </tr>\n",
       "    <tr>\n",
       "      <th>2</th>\n",
       "      <td>religion</td>\n",
       "      <td>file</td>\n",
       "      <td>nasa</td>\n",
       "      <td>blood</td>\n",
       "    </tr>\n",
       "    <tr>\n",
       "      <th>3</th>\n",
       "      <td>bobby</td>\n",
       "      <td>image</td>\n",
       "      <td>orbit</td>\n",
       "      <td>christian</td>\n",
       "    </tr>\n",
       "    <tr>\n",
       "      <th>4</th>\n",
       "      <td>atheists</td>\n",
       "      <td>graphics</td>\n",
       "      <td>space</td>\n",
       "      <td>christians</td>\n",
       "    </tr>\n",
       "  </tbody>\n",
       "</table>"
      ],
      "text/plain": [
       "<IPython.core.display.HTML object>"
      ]
     },
     "metadata": {},
     "output_type": "display_data"
    }
   ],
   "source": [
    "num_coefs = 5\n",
    "large_coefs_mlr = {}\n",
    "for ii in range(0,len(newsgroups_train.target_names)):\n",
    "    large_coefs_mlr[newsgroups_train.target_names[ii]] = []\n",
    "    index = np.argsort(mlr.coef_[ii])[-num_coefs:]\n",
    "    for jj in index:\n",
    "        large_coefs_mlr[newsgroups_train.target_names[ii]].append(cv0.get_feature_names()[jj])\n",
    "\n",
    "display(HTML(pd.DataFrame(large_coefs_mlr).to_html()))\n"
   ]
  },
  {
   "cell_type": "code",
   "execution_count": 110,
   "metadata": {
    "collapsed": true
   },
   "outputs": [],
   "source": [
    "# use count vectorizer to pre-process cv data\n",
    "count_vector_binary = CountVectorizer(binary=True)\n",
    "train_data_sparse_binary = count_vector_binary.fit_transform(train_data)\n",
    "dev_data_sparse_binary = count_vector_binary.transform(dev_data)\n",
    "\n",
    "# create and train the best multinomial logistic regression classifier\n",
    "blr = LogisticRegression()\n",
    "blr = blr.fit(train_data_sparse_binary,train_labels)"
   ]
  },
  {
   "cell_type": "code",
   "execution_count": 115,
   "metadata": {},
   "outputs": [
    {
     "data": {
      "text/html": [
       "<table border=\"1\" class=\"dataframe\">\n",
       "  <thead>\n",
       "    <tr style=\"text-align: right;\">\n",
       "      <th></th>\n",
       "      <th>alt.atheism</th>\n",
       "      <th>comp.graphics</th>\n",
       "      <th>sci.space</th>\n",
       "      <th>talk.religion.misc</th>\n",
       "    </tr>\n",
       "  </thead>\n",
       "  <tbody>\n",
       "    <tr>\n",
       "      <th>0</th>\n",
       "      <td>religion</td>\n",
       "      <td>hi</td>\n",
       "      <td>spacecraft</td>\n",
       "      <td>god</td>\n",
       "    </tr>\n",
       "    <tr>\n",
       "      <th>1</th>\n",
       "      <td>bobby</td>\n",
       "      <td>3d</td>\n",
       "      <td>launch</td>\n",
       "      <td>order</td>\n",
       "    </tr>\n",
       "    <tr>\n",
       "      <th>2</th>\n",
       "      <td>atheists</td>\n",
       "      <td>image</td>\n",
       "      <td>nasa</td>\n",
       "      <td>fbi</td>\n",
       "    </tr>\n",
       "    <tr>\n",
       "      <th>3</th>\n",
       "      <td>atheism</td>\n",
       "      <td>file</td>\n",
       "      <td>orbit</td>\n",
       "      <td>christian</td>\n",
       "    </tr>\n",
       "    <tr>\n",
       "      <th>4</th>\n",
       "      <td>deletion</td>\n",
       "      <td>graphics</td>\n",
       "      <td>space</td>\n",
       "      <td>christians</td>\n",
       "    </tr>\n",
       "  </tbody>\n",
       "</table>"
      ],
      "text/plain": [
       "<IPython.core.display.HTML object>"
      ]
     },
     "metadata": {},
     "output_type": "display_data"
    }
   ],
   "source": [
    "large_coefs_blr = {}\n",
    "for ii in range(0,len(newsgroups_train.target_names)):\n",
    "    large_coefs_blr[newsgroups_train.target_names[ii]] = []\n",
    "    index = np.argsort(blr.coef_[ii])[-num_coefs:]\n",
    "    for jj in index:\n",
    "        large_coefs_blr[newsgroups_train.target_names[ii]].append(cv0.get_feature_names()[jj])\n",
    "\n",
    "display(HTML(pd.DataFrame(large_coefs_blr).to_html()))"
   ]
  },
  {
   "cell_type": "code",
   "execution_count": 6,
   "metadata": {
    "collapsed": true
   },
   "outputs": [],
   "source": [
    "#def P4():\n",
    "### STUDENT START ###\n",
    "\n",
    "\n",
    "### STUDENT END ###\n",
    "#P4()"
   ]
  },
  {
   "cell_type": "markdown",
   "metadata": {},
   "source": [
    "ANSWER:"
   ]
  },
  {
   "cell_type": "markdown",
   "metadata": {},
   "source": [
    "## Problem 5\n",
    "\n",
    "Try to improve the logistic regression classifier by passing a custom preprocessor to CountVectorizer. The preprocessing function runs on the raw text, before it is split into words by the tokenizer. Your preprocessor should try to normalize the input in various ways to improve generalization. For example, try lowercasing everything, replacing sequences of numbers with a single token, removing various other non-letter characters, and shortening long words. If you're not already familiar with regular expressions for manipulating strings, see https://docs.python.org/2/library/re.html, and re.sub() in particular. With your new preprocessor, how much did you reduce the size of the dictionary?\n",
    "\n",
    "For reference, I was able to improve dev F1 by 2 points.\n",
    "\n",
    "[4 pts]"
   ]
  },
  {
   "cell_type": "markdown",
   "metadata": {},
   "source": [
    "questions"
   ]
  },
  {
   "cell_type": "code",
   "execution_count": 135,
   "metadata": {
    "collapsed": true
   },
   "outputs": [],
   "source": [
    "def better_preprocessor(s):\n",
    "    # remove all characters other than whitespace and alphanumerics\n",
    "    s = re.sub(r\"[^\\w\\s]\",'',s)\n",
    "    # replace any word containing a number\n",
    "    s = re.sub(r'\\w*\\d\\w*','preprocessor_replaced_number',s)\n",
    "    # make every letter lowercase\n",
    "    s = s.lower()\n",
    "    return s"
   ]
  },
  {
   "cell_type": "code",
   "execution_count": 137,
   "metadata": {},
   "outputs": [
    {
     "name": "stdout",
     "output_type": "stream",
     "text": [
      "Number of Words in Vocabulary: 26599\n",
      "Average Number of Features per Example: 93.46361848574237\n",
      "Proportion of Datatset that is Non-Zero: 0.0035138019657033116\n"
     ]
    },
    {
     "data": {
      "text/markdown": [
       "** Classification Report for PreProcessed Logistic Regression **"
      ],
      "text/plain": [
       "<IPython.core.display.Markdown object>"
      ]
     },
     "metadata": {},
     "output_type": "display_data"
    },
    {
     "name": "stdout",
     "output_type": "stream",
     "text": [
      "             precision    recall  f1-score   support\n",
      "\n",
      "          0       0.64      0.56      0.60       165\n",
      "          1       0.71      0.89      0.79       185\n",
      "          2       0.77      0.75      0.76       199\n",
      "          3       0.60      0.50      0.55       127\n",
      "\n",
      "avg / total       0.69      0.70      0.69       676\n",
      "\n"
     ]
    }
   ],
   "source": [
    "# use count vectorizer to pre-process cv data\n",
    "count_vector_prepro = CountVectorizer(preprocessor=better_preprocessor)\n",
    "train_data_sparse_prepro = count_vector_prepro.fit_transform(train_data)\n",
    "dev_data_sparse_prepro = count_vector_prepro.transform(dev_data)\n",
    "\n",
    "# part a\n",
    "print(\"Number of Words in Vocabulary: \" + str(train_data_sparse_prepro.shape[1]))\n",
    "print(\"Average Number of Features per Example: \" \\\n",
    "      + str(train_data_sparse_prepro.nnz/train_data_sparse_prepro.shape[0]))\n",
    "print(\"Proportion of Datatset that is Non-Zero: \" \\\n",
    "      + str(train_data_sparse_prepro.nnz/(train_data_sparse_prepro.shape[0]*train_data_sparse_prepro.shape[1])))\n",
    "\n",
    "# create multinomial logistic regression classifier with preprocessed data\n",
    "mlrp = LogisticRegression(C=grid_search.best_params_['C'])\n",
    "mlrp = mlrp.fit(train_data_sparse_prepro,train_labels)\n",
    "mlrp_predict = mlrp.predict(dev_data_sparse_prepro)\n",
    "display(Markdown(\"** Classification Report for PreProcessed Logistic Regression **\"))\n",
    "print(classification_report(dev_labels,mlrp_predict))"
   ]
  },
  {
   "cell_type": "code",
   "execution_count": 7,
   "metadata": {
    "collapsed": true
   },
   "outputs": [],
   "source": [
    "def empty_preprocessor(s):\n",
    "    return s\n",
    "\n",
    "#def P5():\n",
    "### STUDENT START ###\n",
    "\n",
    "    \n",
    "### STUDENT END ###\n",
    "#P5()"
   ]
  },
  {
   "cell_type": "markdown",
   "metadata": {},
   "source": [
    "## Problem 6\n",
    "\n",
    "The idea of regularization is to avoid learning very large weights (which are likely to fit the training data, but not generalize well) by adding a penalty to the total size of the learned weights. That is, logistic regression seeks the set of weights that minimizes errors in the training data AND has a small size. The default regularization, L2, computes this size as the sum of the squared weights (see P3, above). L1 regularization computes this size as the sum of the absolute values of the weights. The result is that whereas L2 regularization makes all the weights relatively small, L1 regularization drives lots of the weights to 0, effectively removing unimportant features.\n",
    "\n",
    "Train a logistic regression model using a \"l1\" penalty. Output the number of learned weights that are not equal to zero. How does this compare to the number of non-zero weights you get with \"l2\"? Now, reduce the size of the vocabulary by keeping only those features that have at least one non-zero weight and retrain a model using \"l2\".\n",
    "\n",
    "Make a plot showing accuracy of the re-trained model vs. the vocabulary size you get when pruning unused features by adjusting the C parameter.\n",
    "\n",
    "Note: The gradient descent code that trains the logistic regression model sometimes has trouble converging with extreme settings of the C parameter. Relax the convergence criteria by setting tol=.01 (the default is .0001).\n",
    "\n",
    "[4 pts]"
   ]
  },
  {
   "cell_type": "code",
   "execution_count": null,
   "metadata": {
    "collapsed": true
   },
   "outputs": [],
   "source": []
  },
  {
   "cell_type": "code",
   "execution_count": 8,
   "metadata": {
    "collapsed": true
   },
   "outputs": [],
   "source": [
    "def P6():\n",
    "    # Keep this random seed here to make comparison easier.\n",
    "    np.random.seed(0)\n",
    "\n",
    "    ### STUDENT START ###\n",
    "\n",
    "    \n",
    "\n",
    "    ### STUDENT END ###\n",
    "P6()"
   ]
  },
  {
   "cell_type": "markdown",
   "metadata": {},
   "source": [
    "## Problem 7\n",
    "\n",
    "Use the TfidfVectorizer -- how is this different from the CountVectorizer? Train a logistic regression model with C=100.\n",
    "\n",
    "Make predictions on the dev data and show the top 3 documents where the ratio R is largest, where R is:\n",
    "\n",
    "maximum predicted probability / predicted probability of the correct label\n",
    "\n",
    "What kinds of mistakes is the model making? Suggest a way to address one particular issue that you see.\n",
    "\n",
    "[4 pts]"
   ]
  },
  {
   "cell_type": "markdown",
   "metadata": {},
   "source": [
    "notes: R = highest probability for article x / probability for the correct label of article x"
   ]
  },
  {
   "cell_type": "code",
   "execution_count": 11,
   "metadata": {
    "collapsed": true
   },
   "outputs": [],
   "source": [
    "#def P7():\n",
    "    ### STUDENT START ###\n",
    "\n",
    "\n",
    "\n",
    "    ### STUDENT END ###\n",
    "#P7()"
   ]
  },
  {
   "cell_type": "markdown",
   "metadata": {},
   "source": [
    "ANSWER:"
   ]
  },
  {
   "cell_type": "markdown",
   "metadata": {},
   "source": [
    "## Problem 8 (Extra Credit)\n",
    "\n",
    "Try implementing one of your ideas based on your error analysis. Use logistic regression as your underlying model.\n",
    "\n",
    "- [1 pt] for a reasonable attempt\n",
    "- [2 pts] for improved performance"
   ]
  },
  {
   "cell_type": "code",
   "execution_count": null,
   "metadata": {
    "collapsed": true
   },
   "outputs": [],
   "source": []
  }
 ],
 "metadata": {
  "kernelspec": {
   "display_name": "Python 3",
   "language": "python",
   "name": "python3"
  },
  "language_info": {
   "codemirror_mode": {
    "name": "ipython",
    "version": 3
   },
   "file_extension": ".py",
   "mimetype": "text/x-python",
   "name": "python",
   "nbconvert_exporter": "python",
   "pygments_lexer": "ipython3",
   "version": "3.6.3"
  }
 },
 "nbformat": 4,
 "nbformat_minor": 1
}
